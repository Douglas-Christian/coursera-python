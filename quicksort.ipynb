{
 "cells": [
  {
   "cell_type": "code",
   "execution_count": null,
   "id": "e8a9d672-bcda-45e3-91b9-e8ff11fa2c25",
   "metadata": {},
   "outputs": [],
   "source": [
    "def quicksort(cards):\n",
    "  if len(cards) < 2:\n",
    "    return cards  # Base case: Already sorted if 0 or 1 element\n",
    "  else:\n",
    "    pivot = cards[0]  # Choose first card as pivot\n",
    "    less = [i for i in cards[1:] if i <= pivot]\n",
    "    greater = [i for i in cards[1:] if i > pivot]\n",
    "    return quicksort(less) + [pivot] + quicksort(greater)"
   ]
  },
  {
   "cell_type": "code",
   "execution_count": null,
   "id": "2a784ce6-fc9e-4c69-82cb-d200f8c21f3e",
   "metadata": {},
   "outputs": [],
   "source": [
    "def simple_sort(cards):\n",
    "  sorted_cards = []\n",
    "  while cards:\n",
    "    lowest_card = min(cards)  \n",
    "    sorted_cards.append(lowest_card)\n",
    "    cards.remove(lowest_card)\n",
    "  return sorted_cards"
   ]
  }
 ],
 "metadata": {
  "kernelspec": {
   "display_name": "Python 3 (ipykernel)",
   "language": "python",
   "name": "python3"
  },
  "language_info": {
   "codemirror_mode": {
    "name": "ipython",
    "version": 3
   },
   "file_extension": ".py",
   "mimetype": "text/x-python",
   "name": "python",
   "nbconvert_exporter": "python",
   "pygments_lexer": "ipython3",
   "version": "3.10.12"
  }
 },
 "nbformat": 4,
 "nbformat_minor": 5
}
