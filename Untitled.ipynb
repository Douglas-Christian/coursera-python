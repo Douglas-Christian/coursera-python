{
 "cells": [
  {
   "cell_type": "markdown",
   "id": "23fb1ede-10d6-4d0c-a723-cad9e8340183",
   "metadata": {},
   "source": []
  },
  {
   "cell_type": "code",
   "execution_count": null,
   "id": "44996905-3337-46d6-94e6-5d53eb8e5124",
   "metadata": {},
   "outputs": [],
   "source": [
    "def json_to_csv(json_file_path, csv_file_path):\n",
    "    \"\"\"\n",
    "    Convert a JSON file to a CSV file.\n",
    "\n",
    "    This function reads a JSON file containing a list of dictionaries, processes the data,\n",
    "    and writes it to a CSV file. If the JSON data contains a dictionary field named '_source',\n",
    "    each key-value pair in '_source' is flattened into separate fields in the CSV, with field names\n",
    "    prefixed by '_source_'.\n",
    "\n",
    "    Parameters:\n",
    "    json_file_path (str): The path to the input JSON file.\n",
    "    csv_file_path (str): The path to the output CSV file.\n",
    "\n",
    "    Example:\n",
    "    json_file_path = 'input.json'\n",
    "    csv_file_path = 'output.csv'\n",
    "    json_to_csv(json_file_path, csv_file_path)\n",
    "    \"\"\"\n",
    "    data = []\n",
    "    with open(json_file_path, 'r') as json_file:\n",
    "        for line in json_file:\n",
    "            data.append(json.loads(line.strip()))\n",
    "\n",
    "    if len(data) > 0:\n",
    "        # Dynamically collect all keys\n",
    "        all_keys = set()\n",
    "        for item in data:\n",
    "            all_keys.update(item.keys())\n",
    "        \n",
    "        # Handle the special case for the _source field\n",
    "        if '_source' in all_keys:\n",
    "            all_keys.remove('_source')\n",
    "            sample_item = data[0]\n",
    "            if '_source' in sample_item:\n",
    "                for key in sample_item['_source'].keys():\n",
    "                    all_keys.add(f'_source_{key}')\n",
    "        \n",
    "        with open(csv_file_path, 'w', newline='') as csv_file:\n",
    "            writer = csv.DictWriter(csv_file, fieldnames=all_keys)\n",
    "            writer.writeheader()\n",
    "            for item in data:\n",
    "                if '_source' in item:\n",
    "                    for key, value in item['_source'].items():\n",
    "                        item[f'_source_{key}'] = value\n",
    "                    del item['_source']\n",
    "                writer.writerow(item)\n"
   ]
  },
  {
   "cell_type": "code",
   "execution_count": null,
   "id": "d2b84c31-735d-4c24-a986-7e6bad19c37d",
   "metadata": {},
   "outputs": [],
   "source": []
  }
 ],
 "metadata": {
  "kernelspec": {
   "display_name": "Python 3 (ipykernel)",
   "language": "python",
   "name": "python3"
  },
  "language_info": {
   "codemirror_mode": {
    "name": "ipython",
    "version": 3
   },
   "file_extension": ".py",
   "mimetype": "text/x-python",
   "name": "python",
   "nbconvert_exporter": "python",
   "pygments_lexer": "ipython3",
   "version": "3.10.12"
  }
 },
 "nbformat": 4,
 "nbformat_minor": 5
}
