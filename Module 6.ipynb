{
 "cells": [
  {
   "cell_type": "markdown",
   "id": "a8fec8c6-d144-4543-b733-e371d4e10b8a",
   "metadata": {},
   "source": [
    "# Your task:\n",
    "Write a pytest test function called test_contains_five that takes an argument called numbers to check if a given list contains the number 5.\n",
    "\n",
    "## Tips:\n",
    "Use the assert statement to check for the presence of 5 in the list.\n",
    "\n",
    "Consider using the in operator to simplify the check.\n",
    "\n",
    "## Example input: \n",
    "my_list = [1, 3, 5, 7, 9]\n",
    "\n",
    "## Expected output: \n",
    "The test should pass without any failures."
   ]
  },
  {
   "cell_type": "code",
   "execution_count": null,
   "id": "491a8468-8c8d-415d-b88b-6e1dc1150f8a",
   "metadata": {},
   "outputs": [],
   "source": [
    "# Example list for testing\n",
    "my_list = [1, 3, 5, 7, 9]\n",
    "\n",
    "import pytest \n",
    "def test_contains_five(numbers):\n",
    "    \"\"\"Check if the list contains the number 5.\"\"\"\n",
    "    assert 5 in numbers\n",
    "\n",
    "# Write your Python program below"
   ]
  }
 ],
 "metadata": {
  "kernelspec": {
   "display_name": "Python 3 (ipykernel)",
   "language": "python",
   "name": "python3"
  },
  "language_info": {
   "codemirror_mode": {
    "name": "ipython",
    "version": 3
   },
   "file_extension": ".py",
   "mimetype": "text/x-python",
   "name": "python",
   "nbconvert_exporter": "python",
   "pygments_lexer": "ipython3",
   "version": "3.10.12"
  }
 },
 "nbformat": 4,
 "nbformat_minor": 5
}
