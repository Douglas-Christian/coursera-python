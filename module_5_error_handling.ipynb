{
 "cells": [
  {
   "cell_type": "markdown",
   "id": "87e9dbf4-b3b4-498c-9da1-cc4b144ecfae",
   "metadata": {},
   "source": [
    "Functional code challenge: Handling a KeyError\n",
    "Task:\n",
    "Write a Python function named get_city_population that takes two parameters.\n",
    "\n",
    "populations - a dictionary representing city populations.\n",
    "\n",
    "city - a string representing the name of the city.\n",
    "\n",
    "The function should:\n",
    "\n",
    "Return the population of the specified city if it's found in the dictionary.\n",
    "\n",
    "Raise a KeyError with a clear error message if the city is not found.\n",
    "\n",
    "Use a try-except block inside the function to handle the KeyError and print a custom error message.\n",
    "\n",
    "Tips:\n",
    "Use the in operator or the get() method to check if a key exists in the dictionary before accessing it.\n",
    "\n",
    "Use raise KeyError() to explicitly raise the exception with your custom error message.\n",
    "\n",
    "Example Input:\n",
    "city_populations = {\"New York\": 8336817, \"Los Angeles\": 3979576, \"Chicago\": 2679044}\n",
    "\n",
    "city_name = \"Tampa\"\n",
    "\n",
    "Expected output:\n",
    "'City \"Tampa\" not found in population data.'"
   ]
  },
  {
   "cell_type": "code",
   "execution_count": 19,
   "id": "f77a4846-1bc6-4fee-b44f-0fd624200ecc",
   "metadata": {},
   "outputs": [
    {
     "name": "stdout",
     "output_type": "stream",
     "text": [
      "City \"Tampa\" not found in population data\n"
     ]
    }
   ],
   "source": [
    "def get_city_population(populations, city):\n",
    "    try:\n",
    "        if city in populations:\n",
    "            print(f'The population of {city} is {populations[city]}.')\n",
    "            return populations[city]\n",
    "        else:\n",
    "            raise KeyError\n",
    "    except KeyError: \n",
    "        print(f'City \"{city}\" not found in population data')\n",
    "\n",
    "# Example input\n",
    "city_populations = {\n",
    "    \"New York\": 8336817,\n",
    "    \"Los Angeles\": 3979576,\n",
    "    \"Chicago\": 2679044\n",
    "}\n",
    "\n",
    "city_name = \"Tampa\"\n",
    "\n",
    "# Testing the function\n",
    "get_city_population(city_populations, city_name)"
   ]
  },
  {
   "cell_type": "code",
   "execution_count": null,
   "id": "008bf3d2-d2dc-4435-999e-c0e13191794d",
   "metadata": {},
   "outputs": [],
   "source": []
  }
 ],
 "metadata": {
  "kernelspec": {
   "display_name": "Python 3 (ipykernel)",
   "language": "python",
   "name": "python3"
  },
  "language_info": {
   "codemirror_mode": {
    "name": "ipython",
    "version": 3
   },
   "file_extension": ".py",
   "mimetype": "text/x-python",
   "name": "python",
   "nbconvert_exporter": "python",
   "pygments_lexer": "ipython3",
   "version": "3.10.12"
  }
 },
 "nbformat": 4,
 "nbformat_minor": 5
}
