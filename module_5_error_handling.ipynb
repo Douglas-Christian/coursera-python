{
 "cells": [
  {
   "cell_type": "markdown",
   "id": "87e9dbf4-b3b4-498c-9da1-cc4b144ecfae",
   "metadata": {},
   "source": [
    "Functional code challenge: Handling a KeyError\n",
    "Task:\n",
    "Write a Python function named get_city_population that takes two parameters.\n",
    "\n",
    "populations - a dictionary representing city populations.\n",
    "\n",
    "city - a string representing the name of the city.\n",
    "\n",
    "The function should:\n",
    "\n",
    "Return the population of the specified city if it's found in the dictionary.\n",
    "\n",
    "Raise a KeyError with a clear error message if the city is not found.\n",
    "\n",
    "Use a try-except block inside the function to handle the KeyError and print a custom error message.\n",
    "\n",
    "Tips:\n",
    "Use the in operator or the get() method to check if a key exists in the dictionary before accessing it.\n",
    "\n",
    "Use raise KeyError() to explicitly raise the exception with your custom error message.\n",
    "\n",
    "Example Input:\n",
    "city_populations = {\"New York\": 8336817, \"Los Angeles\": 3979576, \"Chicago\": 2679044}\n",
    "\n",
    "city_name = \"Tampa\"\n",
    "\n",
    "Expected output:\n",
    "'City \"Tampa\" not found in population data.'"
   ]
  },
  {
   "cell_type": "code",
   "execution_count": 19,
   "id": "f77a4846-1bc6-4fee-b44f-0fd624200ecc",
   "metadata": {},
   "outputs": [
    {
     "name": "stdout",
     "output_type": "stream",
     "text": [
      "City \"Tampa\" not found in population data\n"
     ]
    }
   ],
   "source": [
    "def get_city_population(populations, city):\n",
    "    try:\n",
    "        if city in populations:\n",
    "            print(f'The population of {city} is {populations[city]}.')\n",
    "            return populations[city]\n",
    "        else:\n",
    "            raise KeyError\n",
    "    except KeyError: \n",
    "        print(f'City \"{city}\" not found in population data')\n",
    "\n",
    "# Example input\n",
    "city_populations = {\n",
    "    \"New York\": 8336817,\n",
    "    \"Los Angeles\": 3979576,\n",
    "    \"Chicago\": 2679044\n",
    "}\n",
    "\n",
    "city_name = \"Tampa\"\n",
    "\n",
    "# Testing the function\n",
    "get_city_population(city_populations, city_name)"
   ]
  },
  {
   "cell_type": "markdown",
   "id": "5707d717-ea94-4178-a363-c4982effdff1",
   "metadata": {},
   "source": [
    "Functional code challenge: Safe file reading\n",
    "Task:\n",
    "Write a Python function named read_file_contents that takes file_path as an argument.\n",
    "\n",
    "Inside the function, use a try-except block to attempt to open the file, read its contents, and print them to the console.\n",
    "\n",
    "Handle the FileNotFoundError specifically by printing an appropriate error message if the file doesn't exist.\n",
    "\n",
    "Tips:\n",
    "Use the  with open() statement, which ensures that the file is closed automatically, so calling file.close() in the finally block won’t be necessary.\n",
    "\n",
    "Example Input:\n",
    "read_file_contents(\"/Users/Example/Documents/my_file.txt\")\n",
    "\n",
    "Expected output:\n",
    "Error: File not found - /Users/Example/Documents/my_file.txt"
   ]
  },
  {
   "cell_type": "code",
   "execution_count": null,
   "id": "12a1054e-c0c4-43db-9e3e-20a7be6ab00c",
   "metadata": {},
   "outputs": [],
   "source": [
    "def read_file_contents(file_path):\n",
    "    \"\"\"Reads and prints the contents of a file, handling potential errors gracefully.\"\"\"\n",
    "    try:\n",
    "        with open(file_path, 'r') as file:\n",
    "            contents = file.read()\n",
    "            print(contents)\n",
    "    except FileNotFoundError:\n",
    "        print(f\"Error: File not found - {file_path}\")\n",
    "\n",
    "        "
   ]
  },
  {
   "cell_type": "markdown",
   "id": "4bde2aac-64df-4497-b917-c4903cb67501",
   "metadata": {},
   "source": [
    "Your task:\n",
    "Review the calculate_discount function.\n",
    "\n",
    "Add the example input to your code and try running it.\n",
    "\n",
    "Observe the output and identify the bug.\n",
    "\n",
    "Fix the bug so the function calculates the discount correctly.\n",
    "\n",
    "Tips:\n",
    "The final discounted price should be lower than the original price.\n",
    "\n",
    "Example input:\n",
    "price = 50\n",
    "\n",
    "discount_percentage = 20\n",
    "\n",
    "discounted_price = calculate_discount(price, discount_percentage)\n",
    "\n",
    "print(discounted_price)\n",
    "\n",
    "Expected output:\n",
    "40.0"
   ]
  },
  {
   "cell_type": "code",
   "execution_count": 20,
   "id": "b4d96cc7-15fd-4cf0-a566-37950e40106f",
   "metadata": {},
   "outputs": [
    {
     "name": "stdout",
     "output_type": "stream",
     "text": [
      "40.0\n"
     ]
    }
   ],
   "source": [
    "def calculate_discount(price, discount_percentage):\n",
    "  discount_amount = price * (discount_percentage / 100)\n",
    "  discounted_price = price - discount_amount\n",
    "  #discounted_price = price + discount_amount\n",
    "  return discounted_price\n",
    "\n",
    "price = 50\n",
    "\n",
    "discount_percentage = 20\n",
    "\n",
    "discounted_price = calculate_discount(price, discount_percentage)\n",
    "\n",
    "print(discounted_price)"
   ]
  },
  {
   "cell_type": "code",
   "execution_count": null,
   "id": "6b3b1e61-0e4e-4d6d-9841-5de2da63ee01",
   "metadata": {},
   "outputs": [],
   "source": []
  }
 ],
 "metadata": {
  "kernelspec": {
   "display_name": "Python 3 (ipykernel)",
   "language": "python",
   "name": "python3"
  },
  "language_info": {
   "codemirror_mode": {
    "name": "ipython",
    "version": 3
   },
   "file_extension": ".py",
   "mimetype": "text/x-python",
   "name": "python",
   "nbconvert_exporter": "python",
   "pygments_lexer": "ipython3",
   "version": "3.10.12"
  }
 },
 "nbformat": 4,
 "nbformat_minor": 5
}
