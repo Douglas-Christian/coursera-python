{
 "cells": [
  {
   "cell_type": "markdown",
   "id": "0399a4b1-811c-4b54-8bfd-fc82666f26ab",
   "metadata": {},
   "source": [
    "Your Task:\n",
    "You'll create a number guessing game where the computer tries to guess a secret number you set. The computer will generate random guesses within a range (1 to 10) and continue guessing until it finds the correct number.\n",
    "\n",
    "Instructions:\n",
    "Set your secret_number: Choose a number between 1 and 10 and assign it a variable named secret_number.\n",
    "\n",
    "Initialize another variable called guess with a value of 0.\n",
    "\n",
    "Complete the while loop: Add the condition to the while loop to ensure it continues to run as long as the guess is not equal to your secret_number.\n",
    "\n",
    "Example output:\n",
    "Guessing: 3\n",
    "\n",
    "Guessing: 8\n",
    "\n",
    "Guessing: 1\n",
    "\n",
    "Guessing: 7\n",
    "\n",
    "I guessed the right number! It was 7\n",
    "\n",
    "(Note: This example output is just one possible outcome. The actual output will vary depending on the secret_number and the random guesses.)"
   ]
  },
  {
   "cell_type": "code",
   "execution_count": 2,
   "id": "144db52f-9ec7-4331-821c-0a815f5ea035",
   "metadata": {},
   "outputs": [
    {
     "name": "stdout",
     "output_type": "stream",
     "text": [
      "Guessing: 2\n",
      "Guessing: 1\n",
      "Guessing: 5\n",
      "Guessing: 8\n",
      "Guessing: 9\n",
      "Guessing: 1\n",
      "Guessing: 8\n",
      "Guessing: 5\n",
      "Guessing: 5\n",
      "Guessing: 2\n",
      "Guessing: 8\n",
      "Guessing: 1\n",
      "Guessing: 10\n",
      "Guessing: 9\n",
      "Guessing: 5\n",
      "Guessing: 4\n",
      "Guessing: 2\n",
      "Guessing: 1\n",
      "Guessing: 9\n",
      "Guessing: 9\n",
      "Guessing: 1\n",
      "Guessing: 4\n",
      "Guessing: 6\n",
      "Guessing: 4\n",
      "Guessing: 10\n",
      "Guessing: 6\n",
      "Guessing: 7\n",
      "I guessed the right number! It was 7\n"
     ]
    }
   ],
   "source": [
    "import random\n",
    "\n",
    "# Set the secret_number variable here (between 1 and 10)\n",
    "secret_number = 7\n",
    "# Initialize the guess variable here with a value of 0\n",
    "guess = 0\n",
    "\n",
    "while guess != secret_number:  # Add the while loop condition here\n",
    "\tguess = random.randint(1, 10)\n",
    "\tprint(f\"Guessing: {guess}\")\n",
    "\n",
    "print(f\"I guessed the right number! It was {secret_number}\")"
   ]
  },
  {
   "cell_type": "markdown",
   "id": "f743ec30-e8e5-48f6-85b2-5fe7c7dff00f",
   "metadata": {},
   "source": [
    "Great! Let's dive into conditional statements in Python. Remember the problem statement: You are tasked with creating a Python program to determine movie ticket pricing based on a customer's age.  \n",
    "\n",
    "• Children (under 12): $8\n",
    "• Adults (12-64): $12\n",
    "• Seniors (65 and over): $10\n",
    "\n",
    "We'll work through this together, step by step.  \n",
    "\n",
    "Checkpoint 1: Identify the different age groups and their corresponding ticket prices. (Weight = 10%)\n",
    "Checkpoint 2: Determine which Python comparison operators would be suitable for defining these age ranges. (Weight = 20%)\n",
    "Checkpoint 3: Structure the conditional statement in Python using if, elif, and else to cover all age scenarios. (Weight = 50%)\n",
    "Checkpoint 4: Explain why using a conditional statement is beneficial in this scenario. (Weight = 20%)\n",
    "You can pause at any time to check your progress. Are you ready to begin with the first Checkpoint?"
   ]
  },
  {
   "cell_type": "code",
   "execution_count": 3,
   "id": "9181d948-a315-44de-a894-07b362c2ecf3",
   "metadata": {},
   "outputs": [
    {
     "name": "stdin",
     "output_type": "stream",
     "text": [
      "Please enter your age:  13\n"
     ]
    },
    {
     "name": "stdout",
     "output_type": "stream",
     "text": [
      "The ticket price for an attendee aged 13 is $12.\n"
     ]
    }
   ],
   "source": [
    "# Function to determine ticket price based on age\n",
    "def get_ticket_price(age):\n",
    "    if age < 12:\n",
    "        return 8  # Ticket price for children under 12\n",
    "    elif age >= 65:\n",
    "        return 10  # Ticket price for seniors (65 and older)\n",
    "    else:\n",
    "        return 12  # Ticket price for other attendees\n",
    "\n",
    "# Collect the age of the attendee\n",
    "age = int(input(\"Please enter your age: \"))\n",
    "\n",
    "# Determine the ticket price\n",
    "ticket_price = get_ticket_price(age)\n",
    "\n",
    "# Inform the attendee of their ticket price\n",
    "print(f\"The ticket price for an attendee aged {age} is ${ticket_price}.\")\n"
   ]
  },
  {
   "cell_type": "markdown",
   "id": "79ff0568-c6a0-4a44-8662-eba1d139b0b2",
   "metadata": {},
   "source": [
    "Functional code challenge: Leveraging for loops\n",
    "In this exercise, you will utilize a for loop to count the number of times a particular word occurs in a sentence.  \n",
    "\n",
    "Some starter code has been included for you:\n",
    "\n",
    "A get_word_count function that takes two arguments: word_to_count and sentence \n",
    "\n",
    "An example word to be counted and sentence in the following variables:\n",
    "\n",
    "word_to_count holds the specific word we want to count\n",
    "\n",
    "sentence holds the sentence string to count the words from\n",
    "\n",
    "Task:\n",
    "\n",
    " Create a function with 2 parameters (code is provided)  \n",
    "\n",
    "Split the sentence variable into words using the split() method and assign it to a new words variable.\n",
    "\n",
    "Create a new variable count and assign it a value of 0.\n",
    "\n",
    "Loop through the words variable and count all words that are equal to word_to_count.\n",
    "\n",
    "Print the result in the following format: print(f\"The word '{word_to_count}' appears {count} times in the sentence.\")\n",
    "\n",
    "Tips:\n",
    "\n",
    "You can use the addition assignment operator += to increment the count variable for each occurrence of the word to count (i.e. count += 1).\n",
    "\n",
    "Example main program:\n",
    "\n",
    "word_to_count = \"happy\"\n",
    "\n",
    "sentence = \"In a happy home, a happy heart creates a happy space.\"\n",
    "\n",
    "get_word_count(word_to_count, sentence)\n",
    "\n",
    "Expected output:\n",
    "\n",
    "The word 'happy' appears 3 times in the sentence."
   ]
  },
  {
   "cell_type": "code",
   "execution_count": 12,
   "id": "ff18eefa-9ec2-4cb0-a428-8297b3fd0f8d",
   "metadata": {},
   "outputs": [
    {
     "name": "stdout",
     "output_type": "stream",
     "text": [
      "The word 'happy' appears 3 times in the sentence.\n"
     ]
    }
   ],
   "source": [
    "# Step 1: Starter code: function with 2 parameters: word_to_count and sentence (provided)\n",
    "def get_word_count(word_to_count, sentence):\n",
    "    # Step 2: Split the sentence into words\n",
    "    words = sentence.split()\n",
    "    # HINT: Use a method called split\n",
    "    \n",
    "    # Step 3: Initialize the count variable\n",
    "    count = 0 \n",
    "    # Step 4: Use a for loop to iterate over the words and count occurrences\n",
    "    for each in words:\n",
    "        if each == \"happy\":\n",
    "            count += 1\n",
    "    # Step 5: Print the result\n",
    "    print(f\"The word '{word_to_count}' appears {count} times in the sentence.\")\n",
    "\n",
    "word_to_count = \"happy\"\n",
    "sentence = \"In a happy home, a happy heart creates a happy space.\"\n",
    "# This will call the created function\n",
    "get_word_count(word_to_count, sentence)"
   ]
  },
  {
   "cell_type": "markdown",
   "id": "9c800f9a-90bb-4423-a1e9-8d8d827e32b5",
   "metadata": {},
   "source": [
    "Coding challenge: Odd number\n",
    "Your task:\n",
    "Write a Python program that takes in a list of numbers and iterates for each number and checks if it is even or odd. Use the provided numbers list as a starting point.\n",
    "\n",
    "Iterate over the numbers list: Use a for loop to iterate over the provided list (for number in numbers:).\n",
    "\n",
    "Check even/odd: Use a conditional statement to determine if each number is even or odd.\n",
    "\n",
    "Display output: Print a message indicating whether the numbers are even or odd.\n",
    "\n",
    "Tips:\n",
    "You can use the modulo operator (%) to check if a number is divisible by 2.\n",
    "\n",
    "If the remainder of the division by 2 is 0, the number is even.\n",
    "\n",
    "Otherwise, it's odd.\n",
    "\n",
    "Example input:\n",
    "numbers = [3, 9, 1, 10, 5, 2, 8]\n",
    "\n",
    "Expected output:\n",
    "3 is odd\n",
    "\n",
    "9 is odd\n",
    "\n",
    "1 is odd\n",
    "\n",
    "10 is even\n",
    "\n",
    "5 is odd\n",
    "\n",
    "2 is even\n",
    "\n",
    "8 is even"
   ]
  },
  {
   "cell_type": "code",
   "execution_count": 23,
   "id": "8af7ac4e-54b6-42e2-9528-35e8b3fe76b4",
   "metadata": {},
   "outputs": [
    {
     "name": "stdout",
     "output_type": "stream",
     "text": [
      "3 is odd\n",
      "9 is odd\n",
      "1 is odd\n",
      "10 is even\n",
      "5 is odd\n",
      "2 is even\n",
      "8 is even\n"
     ]
    }
   ],
   "source": [
    "numbers = [3, 9, 1, 10, 5, 2, 8]\n",
    "\n",
    "### Your code here\n",
    "number = 0\n",
    "for number in numbers: \n",
    "    if number % 2 == 0: \n",
    "        print(number, \"is even\")\n",
    "\n",
    "    else: \n",
    "        print(number, \"is odd\")\n",
    "    \n",
    "        "
   ]
  },
  {
   "cell_type": "markdown",
   "id": "f02ce2b5-9998-46eb-be9d-4b47a52cbda6",
   "metadata": {},
   "source": [
    "Specifically, we'll be working on a scenario where we need to check if a specific book is available in a library's inventory and update its status to \"checked out\" if it is. \n",
    "\n",
    "We'll break this down into smaller steps to make it easier to grasp. Here's what we'll cover:\n",
    "\n",
    "Understanding Loops: We'll explore the concept of loops in programming and why they are essential. (Weight = 20%)\n",
    "For and While Loops: We'll dive into the specifics of 'for' and 'while' loops in Python, understanding their syntax and when to use each. (Weight = 30%)\n",
    "Conditional Statements within Loops: We'll learn how to use 'if' statements inside our loops to add decision-making capabilities. (Weight = 30%)\n",
    "Solving the Library Book Problem: Finally, we'll put everything together to write the Python code that solves our library book problem. (Weight = 20%)"
   ]
  },
  {
   "cell_type": "code",
   "execution_count": 24,
   "id": "ce79417a-f701-478c-9ab0-79d661c236c6",
   "metadata": {},
   "outputs": [
    {
     "name": "stdout",
     "output_type": "stream",
     "text": [
      "The book \"The Hitchhiker's Guide to the Galaxy\" is available.\n",
      "\n",
      "Updated Inventory:\n",
      "The book \"The Hitchhiker's Guide to the Galaxy\" is unavailable.\n",
      "The book \"Book B\" is unavailable.\n",
      "The book \"Book C\" is available.\n",
      "The book \"Book D\" is unavailable.\n"
     ]
    }
   ],
   "source": [
    "# Sample inventory of books\n",
    "inventory = [\n",
    "    {\"title\": \"The Hitchhiker's Guide to the Galaxy\", \"available\": True},\n",
    "    {\"title\": \"Book B\", \"available\": False},\n",
    "    {\"title\": \"Book C\", \"available\": True},\n",
    "    {\"title\": \"Book D\", \"available\": False},\n",
    "]\n",
    "\n",
    "# Target book title\n",
    "target_book_title = \"The Hitchhiker's Guide to the Galaxy\"\n",
    "\n",
    "# Check the status of each book and update if it matches the target title\n",
    "for book in inventory:\n",
    "    if book[\"title\"] == target_book_title:\n",
    "        if book[\"available\"]:\n",
    "            print(f'The book \"{book[\"title\"]}\" is available.')\n",
    "        else:\n",
    "            print(f'The book \"{book[\"title\"]}\" is unavailable.')\n",
    "        # Optionally, update the status of the target book (example: marking it as unavailable)\n",
    "        book[\"available\"] = False\n",
    "\n",
    "# Print the updated inventory\n",
    "print(\"\\nUpdated Inventory:\")\n",
    "for book in inventory:\n",
    "    status = \"available\" if book[\"available\"] else \"unavailable\"\n",
    "    print(f'The book \"{book[\"title\"]}\" is {status}.')\n",
    "\n"
   ]
  },
  {
   "cell_type": "markdown",
   "id": "89d470f9-4be7-41e3-853c-3bfae8a03d35",
   "metadata": {},
   "source": [
    "Scenario: Taming Temperature Data with Python\n",
    "You're a data analyst working on a weather project. You've collected a series of temperature readings in Celsius, but your analysis tools and reports require temperatures in Fahrenheit. It's time to put your Python skills to work! You’ll create a program that efficiently converts a list of Celsius temperatures into their Fahrenheit equivalents, demonstrating the power of loops and variables in handling real-world data transformations.\n",
    "\n",
    "Activity Summary:\n",
    "Create and initialize lists to store temperature data.\n",
    "\n",
    "Use a loop to iterate through Celsius temperatures.\n",
    "\n",
    "Apply the Celsius-to-Fahrenheit conversion formula.\n",
    "\n",
    "Store converted Fahrenheit temperatures in a new list.\n",
    "\n",
    "1.\n",
    "Question 1\n",
    "Step 1: Store temperature data\n",
    "Instructions:\n",
    "You need two lists to store temperature data.\n",
    "\n",
    "The first list, celsius_temperatures,  has been created for you.\n",
    "\n",
    "Add the following sample Celsius temperatures to it: 0, 10, 25, 32, 100 to celsius_temperatures.\n",
    "\n",
    "Create the second list, fahrenheit_temperatures, as an empty list to store the converted Fahrenheit temperatures later.\n",
    "\n",
    "Print both lists to observe their initial state."
   ]
  },
  {
   "cell_type": "code",
   "execution_count": 27,
   "id": "b289a8ce-5817-4f80-ac00-219248b9dcb3",
   "metadata": {},
   "outputs": [
    {
     "name": "stdout",
     "output_type": "stream",
     "text": [
      "Celsius Temperatures: [0, 10, 25, 32, 100]\n",
      "Fahrenheit Temperatures: [32.0, 50.0, 77.0, 89.6, 212.0]\n"
     ]
    }
   ],
   "source": [
    "# Create a list and add sample Celsius temperatures to it \n",
    "celsius_temperatures = [] # Start with an empty list\n",
    "\n",
    "# Add the Celsius temperatures to the list\n",
    "celsius_temperatures = [0,10,25,32,100]\n",
    "\n",
    "# Create an empty list to store Fahrenheit temperatures\n",
    "fahrenheit_temperatures = []\n",
    "\n",
    "# Convert each Celsius temperature to Fahrenheit\n",
    "for celsius in celsius_temperatures:  # Start the loop\n",
    "  ##### Insert code here\n",
    "  fahrenheit = (celsius * 9/5) + 32\n",
    "  fahrenheit_temperatures.append(fahrenheit)  # Append to the list\n",
    "\n",
    "# Print both lists\n",
    "print(\"Celsius Temperatures:\", celsius_temperatures)\n",
    "print(\"Fahrenheit Temperatures:\", fahrenheit_temperatures) "
   ]
  },
  {
   "cell_type": "markdown",
   "id": "f163e201-20d4-40fe-b023-3e172852860f",
   "metadata": {},
   "source": [
    "Command                What it does\n",
    "\n",
    "len(list)              Tells you how many things are in the list.\n",
    "\n",
    "list.append(x)         Adds x to the end of the list.\n",
    "\n",
    "list.insert(i, x)      Adds x at position i in the list.\n",
    "\n",
    "list.remove(x)         Removes the first x from the list.\n",
    "\n",
    "list.sort()            Arranges the list in order.\n",
    "\n",
    "list.reverse()         Reverses the order of the items in the list.\n",
    "\n",
    "list.count(x)          Counts how many times x appears in the list.\n",
    "\n",
    "x in list              Checks if x is in the list.\n",
    "\n",
    "list.index(x)          Tells you the position of the first x in the list."
   ]
  },
  {
   "cell_type": "markdown",
   "id": "ec06e64e-35bb-4846-a011-82ac1981fae6",
   "metadata": {},
   "source": [
    "Excellent! That's correct. You've defined the function header with parameters for length and width.\n",
    "\n",
    "You are now 50% complete.\n",
    "\n",
    "Now, let's focus on what goes *inside* the function. How would you calculate the area of a rectangle using the `length` and `width` parameters, and how would you tell the function to return that calculated area?"
   ]
  },
  {
   "cell_type": "code",
   "execution_count": 10,
   "id": "1ef4ca0a-dce2-4673-9b8d-7296d02c20bc",
   "metadata": {},
   "outputs": [],
   "source": [
    "def calculate_area_rectangle(length, width):\n",
    "    \"\"\"Calculates the area of a rectangle.\n",
    "\n",
    "      Args:\n",
    "        length: The length of the rectangle.\n",
    "        width: The width of the rectangle.\n",
    "\n",
    "      Returns:\n",
    "        The area of the rectangle.\n",
    "    \"\"\"\n",
    "    area = length * width\n",
    "    return area\n",
    "    \n"
   ]
  },
  {
   "cell_type": "markdown",
   "id": "f4fc9629-ece5-4bcf-96d6-8777f86e5cc3",
   "metadata": {},
   "source": [
    "Practice\n",
    "\n",
    "Simple Calculator input(), operators print()\n",
    "\n",
    "input validation using len() and type() to validate password input\n",
    "\n",
    "script converting data int(), Float(), str() complete operator on each type."
   ]
  },
  {
   "cell_type": "markdown",
   "id": "1987c24b-b039-4df7-ab88-1d85019884ae",
   "metadata": {},
   "source": [
    "Exercise 1: Analyzing Antarctic Temperatures  \n",
    "Instructions:\n",
    "Begin with the antarctic_temperatures list, which contains the daily temperature recordings.\n",
    "\n",
    "Apply the max() function to the antarctic_temperatures list to obtain the highest temperature recorded.\n",
    "\n",
    "Apply the min() function on the antarctic_temperatures list to determine the lowest temperature recorded.\n",
    "\n",
    "Print the highest and lowest temperatures.\n",
    "\n",
    "Calculate the average temperature by summing all temperatures in the antarctic_temperatures list using the sum() function and dividing by the number of temperatures, which you can determine using the len() function. Round the calculated average temperature to one decimal place using the round() function.\n",
    "\n",
    "Print the rounded average temperature.\n",
    "\n",
    "Calculate the absolute value of the coldest temperature using the abs() function.\n",
    "\n",
    "Print the absolute value of the coldest temperature."
   ]
  },
  {
   "cell_type": "code",
   "execution_count": 13,
   "id": "5af53f00-7fac-41fa-9a0a-ecd15943a941",
   "metadata": {},
   "outputs": [
    {
     "name": "stdout",
     "output_type": "stream",
     "text": [
      "Highest temperature: -23.8 °C\n",
      "Lowest temperature: -29.2 °C\n"
     ]
    },
    {
     "ename": "NameError",
     "evalue": "name 'avg' is not defined",
     "output_type": "error",
     "traceback": [
      "\u001b[0;31m---------------------------------------------------------------------------\u001b[0m",
      "\u001b[0;31mNameError\u001b[0m                                 Traceback (most recent call last)",
      "Cell \u001b[0;32mIn[13], line 11\u001b[0m\n\u001b[1;32m      8\u001b[0m \u001b[38;5;28mprint\u001b[39m(\u001b[38;5;124m\"\u001b[39m\u001b[38;5;124mLowest temperature:\u001b[39m\u001b[38;5;124m\"\u001b[39m, lowest_temp, \u001b[38;5;124m\"\u001b[39m\u001b[38;5;124m°C\u001b[39m\u001b[38;5;124m\"\u001b[39m)\n\u001b[1;32m     10\u001b[0m \u001b[38;5;66;03m# Calculate the average temperature\u001b[39;00m\n\u001b[0;32m---> 11\u001b[0m average_temp \u001b[38;5;241m=\u001b[39m \u001b[43mavg\u001b[49m(antarctic_temperatures)\n\u001b[1;32m     12\u001b[0m \u001b[38;5;28mprint\u001b[39m(\u001b[38;5;124m\"\u001b[39m\u001b[38;5;124mAverage temperature:\u001b[39m\u001b[38;5;124m\"\u001b[39m, average_temp, \u001b[38;5;124m\"\u001b[39m\u001b[38;5;124m°C\u001b[39m\u001b[38;5;124m\"\u001b[39m)\n\u001b[1;32m     14\u001b[0m \u001b[38;5;66;03m# Find the absolute value of the coldest temperature\u001b[39;00m\n",
      "\u001b[0;31mNameError\u001b[0m: name 'avg' is not defined"
     ]
    }
   ],
   "source": [
    "antarctic_temperatures = [-25.5, -28.0, -26.3, -23.8, -27.1, -24.9, -29.2]\n",
    "\n",
    "# Find the highest and lowest temperatures\n",
    "highest_temp = max(antarctic_temperatures)\n",
    "lowest_temp = min(antarctic_temperatures)\n",
    "\n",
    "print(\"Highest temperature:\", highest_temp, \"°C\")\n",
    "print(\"Lowest temperature:\", lowest_temp, \"°C\")\n",
    "\n",
    "# Calculate the average temperature\n",
    "average_temp = avg(antarctic_temperatures)\n",
    "print(\"Average temperature:\", average_temp, \"°C\")\n",
    "\n",
    "# Find the absolute value of the coldest temperature\n",
    "coldest_temp_abs = antarctic_temperatures ### Insert code here\n",
    "print(\"The coldest temperature was\", coldest_temp_abs, \"°C below freezing.\")"
   ]
  },
  {
   "cell_type": "code",
   "execution_count": null,
   "id": "5bc7bd34-aac9-45bb-8013-839a1d395cf1",
   "metadata": {},
   "outputs": [],
   "source": []
  }
 ],
 "metadata": {
  "kernelspec": {
   "display_name": "Python 3 (ipykernel)",
   "language": "python",
   "name": "python3"
  },
  "language_info": {
   "codemirror_mode": {
    "name": "ipython",
    "version": 3
   },
   "file_extension": ".py",
   "mimetype": "text/x-python",
   "name": "python",
   "nbconvert_exporter": "python",
   "pygments_lexer": "ipython3",
   "version": "3.10.12"
  }
 },
 "nbformat": 4,
 "nbformat_minor": 5
}
