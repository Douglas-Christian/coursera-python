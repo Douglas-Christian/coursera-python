{
 "cells": [
  {
   "cell_type": "markdown",
   "id": "25c20828-ce89-4943-9e6a-f4ca1880ff8c",
   "metadata": {
    "editable": true,
    "slideshow": {
     "slide_type": ""
    },
    "tags": []
   },
   "source": [
    "Your task:\n",
    "Write three Python functions that implement a simple temperature conversion tool.\n",
    "\n",
    "celsius_to_fahrenheit(celsius): Takes a temperature in Celsius and converts it to Fahrenheit.\n",
    "\n",
    "fahrenheit_to_celsius(fahrenheit): Takes a temperature in Fahrenheit and converts it to Celsius.\n",
    "\n",
    "convert_temperature(temperature, unit): Takes a temperature value and a unit ('C' for Celsius or 'F' for Fahrenheit). It calls the appropriate conversion function based on the unit and returns the converted temperature.\n",
    "\n",
    "Tips:\n",
    "Remember these formulas:\n",
    "\n",
    "Fahrenheit = (Celsius * 9/5) + 32\n",
    "\n",
    "Celsius = (Fahrenheit - 32) * 5/9\n",
    "\n",
    "Example usage:\n",
    "temperature_c = 25\n",
    "temperature_f = 77\n",
    "\n",
    "converted_f = convert_temperature(temperature_c, 'C')\n",
    "converted_c = convert_temperature(temperature_f, 'F')\n",
    "\n",
    "print(f\"{temperature_c}°C is equal to {converted_f}°F\")\n",
    "print(f\"{temperature_f}°F is equal to {converted_c}°C\")\n",
    "\n",
    "Expected output:\n",
    "25°C is equal to 77.0°F\n",
    "77°F is equal to 25.0°C"
   ]
  },
  {
   "cell_type": "code",
   "execution_count": 1,
   "id": "cb052603-0065-40b9-b8ee-367e45e8cd74",
   "metadata": {},
   "outputs": [
    {
     "name": "stdout",
     "output_type": "stream",
     "text": [
      "25°C is equal to 77.0°F\n",
      "77°F is equal to 25.0°C\n"
     ]
    }
   ],
   "source": [
    "def celsius_to_fahrenheit(celsius):\n",
    "    return (celsius * 9/5) + 32\n",
    "\n",
    "def fahrenheit_to_celsius(fahrenheit):\n",
    "    return (fahrenheit - 32) * 5/9\n",
    "\n",
    "def convert_temperature(temperature, unit):\n",
    "    if unit == 'C':\n",
    "        return celsius_to_fahrenheit(temperature)\n",
    "    elif unit == 'F':\n",
    "        return fahrenheit_to_celsius(temperature)\n",
    "    else:\n",
    "        raise ValueError(\"Unit must be 'C' for Celsius or 'F' for Fahrenheit\")\n",
    "\n",
    "# Example usage:\n",
    "temperature_c = 25\n",
    "temperature_f = 77\n",
    "\n",
    "converted_f = convert_temperature(temperature_c, 'C')\n",
    "converted_c = convert_temperature(temperature_f, 'F')\n",
    "\n",
    "print(f\"{temperature_c}°C is equal to {converted_f}°F\")\n",
    "print(f\"{temperature_f}°F is equal to {converted_c}°C\")\n"
   ]
  },
  {
   "cell_type": "markdown",
   "id": "8f782fc6-cf3e-4938-9cac-1c4083c81284",
   "metadata": {},
   "source": [
    "Task:\n",
    "Create a Python function named make_sandwich.\n",
    "\n",
    "This function should accept the following parameters:\n",
    "\n",
    "bread_type (a string representing the type of bread)\n",
    "\n",
    "filling (a string for the main sandwich filling)\n",
    "\n",
    "cheese (an optional string for the cheese type, defaulting to \"none\")\n",
    "\n",
    "toasted (an optional boolean indicating if the sandwich is toasted, defaulting to False)\n",
    "\n",
    "Inside the function, construct a descriptive sentence about the sandwich being made, incorporating all the provided details.\n",
    "\n",
    "Have the function return the sentences shown in the Expected Output section below.\n",
    "\n",
    "Tips:\n",
    "Remember to use default values for the optional parameters.\n",
    "\n",
    "Consider using an if statement to handle the case where no cheese is added.\n",
    "\n",
    "You can use f-strings for convenient string formatting.\n",
    "\n",
    "Example Input:\n",
    "make_sandwich(\"wheat\", \"turkey\", \"cheddar\", True)\n",
    "make_sandwich(\"rye\", \"ham\")\n",
    "\n",
    "Expected output:\n",
    "Making a toasted wheat sandwich with turkey and cheddar cheese.\n",
    "Making a rye sandwich with ham."
   ]
  },
  {
   "cell_type": "code",
   "execution_count": 16,
   "id": "ba9f2514-264f-4a41-9552-5ad49492e2a3",
   "metadata": {},
   "outputs": [
    {
     "data": {
      "text/plain": [
       "'Making a rye sandwich with ham.'"
      ]
     },
     "execution_count": 16,
     "metadata": {},
     "output_type": "execute_result"
    }
   ],
   "source": [
    "def make_sandwich(bread_type: str, filling: str, cheese = None, toasted = False):\n",
    "    \"\"\"\n",
    "    Creates a sandwhich wioth optional cheese.\n",
    "\n",
    "    Args:\n",
    "        bread (str): The type of bread (required).\n",
    "        filling (str): The sandwich filling (required).\n",
    "        Cheese (str, optional): The sandwiches cheese.\n",
    "        toasted (bool): Is the sandwiched toasted. (optional).\n",
    "    \"\"\"\n",
    "    if cheese == None and not toasted:\n",
    "        return f\"Making a {bread_type} sandwich with {filling}.\" \n",
    "    elif cheese == None and toasted: \n",
    "        return f\"Making a toasted {bread_type} sandwich with {filling}.\"\n",
    "    elif not toasted:\n",
    "        return f\"Making a {bread_type} sandwich with {filling} and {cheese} cheese.\"\n",
    "    else:\n",
    "        return f\"Making a toasted {bread_type} sandwich with {filling} and {cheese} cheese.\"\n",
    "    \n",
    "\n",
    "make_sandwich(\"wheat\", \"turkey\", \"cheddar\", True)\n",
    "make_sandwich(\"rye\", \"ham\")"
   ]
  },
  {
   "cell_type": "code",
   "execution_count": null,
   "id": "d91b4ec2-9958-438a-908e-24bc0cf48567",
   "metadata": {},
   "outputs": [],
   "source": []
  },
  {
   "cell_type": "code",
   "execution_count": null,
   "id": "d1fea5bc-0e50-44b9-98e3-7e4643cacd09",
   "metadata": {},
   "outputs": [],
   "source": []
  }
 ],
 "metadata": {
  "kernelspec": {
   "display_name": "Python 3 (ipykernel)",
   "language": "python",
   "name": "python3"
  },
  "language_info": {
   "codemirror_mode": {
    "name": "ipython",
    "version": 3
   },
   "file_extension": ".py",
   "mimetype": "text/x-python",
   "name": "python",
   "nbconvert_exporter": "python",
   "pygments_lexer": "ipython3",
   "version": "3.10.12"
  }
 },
 "nbformat": 4,
 "nbformat_minor": 5
}
